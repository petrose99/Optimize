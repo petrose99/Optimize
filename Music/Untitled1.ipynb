{
 "cells": [
  {
   "cell_type": "code",
   "execution_count": 1,
   "id": "bda5304e",
   "metadata": {},
   "outputs": [],
   "source": [
    "from music21 import *\n"
   ]
  },
  {
   "cell_type": "code",
   "execution_count": 2,
   "id": "f7f04c77",
   "metadata": {},
   "outputs": [],
   "source": [
    "environment.set(\"musescoreDirectPNGPath\", \"/usr/bin/musescore\")\n"
   ]
  },
  {
   "cell_type": "code",
   "execution_count": null,
   "id": "ee9c3442",
   "metadata": {},
   "outputs": [],
   "source": [
    "import random\n",
    "\n",
    "# Define constants\n",
    "POPULATION_SIZE = 100\n",
    "GENOME_LENGTH = 256\n",
    "MUTATION_RATE = 0.01\n",
    "GENERATIONS = 100\n",
    "\n",
    "# Define fitness function (replace with your own)\n",
    "def evaluate_fitness(genome):\n",
    "    fitness = 0\n",
    "    # Evaluate the fitness of the genome by playing the music it encodes\n",
    "    # and measuring how well it meets the desired criteria (such as rhythm,\n",
    "    # melody, harmony, structure, and effects).\n",
    "    # ...\n",
    "    return fitness\n",
    "\n",
    "# Generate initial population\n",
    "population = []\n",
    "for i in range(POPULATION_SIZE):\n",
    "    genome = [random.randint(0, 1) for j in range(GENOME_LENGTH)]\n",
    "    population.append(genome)\n",
    "\n",
    "# Run genetic algorithm for a fixed number of generations\n",
    "for generation in range(GENERATIONS):\n",
    "    # Evaluate fitness of each genome\n",
    "    fitness_scores = []\n",
    "    for genome in population:\n",
    "        fitness_scores.append(evaluate_fitness(genome))\n",
    "    # Select parents for next generation\n",
    "    parents = []\n",
    "    for i in range(POPULATION_SIZE):\n",
    "        parent_a = random.choices(population, weights=fitness_scores)[0]\n",
    "        parent_b = random.choices(population, weights=fitness_scores)[0]\n",
    "        parents.append((parent_a, parent_b))\n",
    "    # Crossover and mutation to create new generation\n",
    "    new_population = []\n",
    "    for parent_pair in parents:\n",
    "        parent_a, parent_b = parent_pair\n",
    "        # Perform crossover\n",
    "        crossover_point = random.randint(0, GENOME_LENGTH - 1)\n",
    "        child = parent_a[:crossover_point] + parent_b[crossover_point:]\n",
    "        # Perform mutation\n",
    "        for i in range(GENOME_LENGTH):\n",
    "            if random.random() < MUTATION_RATE:\n",
    "                child[i] = 1 - child[i]\n",
    "        new_population.append(child)\n",
    "    # Replace old population with new population\n",
    "    population = new_population\n",
    "\n",
    "# Find genome with highest fitness score\n",
    "best_genome = None\n",
    "best_fitness = float('-inf')\n",
    "for genome in population:\n",
    "    fitness = evaluate_fitness(genome)\n",
    "    if fitness > best_fitness:\n",
    "        best_fitness = fitness\n",
    "        best_genome = genome\n",
    "\n",
    "\n"
   ]
  },
  {
   "cell_type": "code",
   "execution_count": null,
   "id": "c0ba303e",
   "metadata": {},
   "outputs": [],
   "source": [
    "\n",
    "# Play music encoded by best genome\n",
    "def play_music(genome):\n",
    "    # Convert genome to stream of notes\n",
    "    notes = []\n",
    "    for i in range(0, len(genome), 8):\n",
    "        pitch = int(''.join(str(bit) for bit in genome[i:i+8]), 2)  # Convert 8-bit binary number to integer pitch value\n",
    "        duration = 0.25  # Use a fixed duration of quarter note\n",
    "        note = note.Note()\n",
    "        note.pitch.midi = pitch\n",
    "        note.duration.quarterLength = duration\n",
    "        notes.append(note)\n",
    "    stream = stream.Stream(notes)\n",
    "\n",
    "    # Play music stream\n",
    "    sp = midi.realtime.StreamPlayer(stream)\n",
    "    sp.play()\n",
    "\n",
    "# Play music encoded by best genome\n",
    "play_music(best_genome)\n"
   ]
  }
 ],
 "metadata": {
  "kernelspec": {
   "display_name": "Python 3 (ipykernel)",
   "language": "python",
   "name": "python3"
  },
  "language_info": {
   "codemirror_mode": {
    "name": "ipython",
    "version": 3
   },
   "file_extension": ".py",
   "mimetype": "text/x-python",
   "name": "python",
   "nbconvert_exporter": "python",
   "pygments_lexer": "ipython3",
   "version": "3.9.13"
  }
 },
 "nbformat": 4,
 "nbformat_minor": 5
}
